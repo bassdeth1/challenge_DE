{
 "cells": [
  {
   "cell_type": "markdown",
   "id": "387f844c",
   "metadata": {},
   "source": [
    "# Desafío de Ingeniero de Datos\n",
    "\n",
    "## Descripción del Proyecto\n",
    "Este proyecto tiene como objetivo analizar un conjunto de datos de tweets para extraer información relevante optimizando tanto el tiempo de ejecución como el uso de memoria. A continuación, se detalla la implementación de cada función y su respectivo enfoque."
   ]
  },
  {
   "cell_type": "markdown",
   "id": "fda2c33d",
   "metadata": {},
   "source": [
    "## Preparación del Entorno\n",
    "Primero, instalaremos las dependencias necesarias y descargaremos el archivo de datos desde Google Drive."
   ]
  },
  {
   "cell_type": "code",
   "execution_count": 4,
   "id": "8cd2f05e",
   "metadata": {},
   "outputs": [
    {
     "name": "stdout",
     "output_type": "stream",
     "text": [
      "Requirement already satisfied: memory-profiler==0.61.0 in c:\\users\\aaarellano\\appdata\\local\\programs\\python\\python311\\lib\\site-packages (from -r ../requirements.txt (line 1)) (0.61.0)\n",
      "Requirement already satisfied: pandas in c:\\users\\aaarellano\\appdata\\local\\programs\\python\\python311\\lib\\site-packages (from -r ../requirements.txt (line 2)) (2.2.2)\n",
      "Requirement already satisfied: emoji in c:\\users\\aaarellano\\appdata\\local\\programs\\python\\python311\\lib\\site-packages (from -r ../requirements.txt (line 3)) (2.12.1)\n",
      "Requirement already satisfied: gdown in c:\\users\\aaarellano\\appdata\\local\\programs\\python\\python311\\lib\\site-packages (from -r ../requirements.txt (line 4)) (5.2.0)\n",
      "Requirement already satisfied: psutil in c:\\users\\aaarellano\\appdata\\roaming\\python\\python311\\site-packages (from memory-profiler==0.61.0->-r ../requirements.txt (line 1)) (6.0.0)\n",
      "Requirement already satisfied: numpy>=1.23.2 in c:\\users\\aaarellano\\appdata\\local\\programs\\python\\python311\\lib\\site-packages (from pandas->-r ../requirements.txt (line 2)) (2.0.0)\n",
      "Requirement already satisfied: python-dateutil>=2.8.2 in c:\\users\\aaarellano\\appdata\\roaming\\python\\python311\\site-packages (from pandas->-r ../requirements.txt (line 2)) (2.9.0.post0)\n",
      "Requirement already satisfied: pytz>=2020.1 in c:\\users\\aaarellano\\appdata\\local\\programs\\python\\python311\\lib\\site-packages (from pandas->-r ../requirements.txt (line 2)) (2024.1)\n",
      "Requirement already satisfied: tzdata>=2022.7 in c:\\users\\aaarellano\\appdata\\local\\programs\\python\\python311\\lib\\site-packages (from pandas->-r ../requirements.txt (line 2)) (2024.1)\n",
      "Requirement already satisfied: typing-extensions>=4.7.0 in c:\\users\\aaarellano\\appdata\\roaming\\python\\python311\\site-packages (from emoji->-r ../requirements.txt (line 3)) (4.12.2)\n",
      "Requirement already satisfied: beautifulsoup4 in c:\\users\\aaarellano\\appdata\\local\\programs\\python\\python311\\lib\\site-packages (from gdown->-r ../requirements.txt (line 4)) (4.12.3)\n",
      "Requirement already satisfied: filelock in c:\\users\\aaarellano\\appdata\\local\\programs\\python\\python311\\lib\\site-packages (from gdown->-r ../requirements.txt (line 4)) (3.15.4)\n",
      "Requirement already satisfied: requests[socks] in c:\\users\\aaarellano\\appdata\\local\\programs\\python\\python311\\lib\\site-packages (from gdown->-r ../requirements.txt (line 4)) (2.32.3)\n",
      "Requirement already satisfied: tqdm in c:\\users\\aaarellano\\appdata\\local\\programs\\python\\python311\\lib\\site-packages (from gdown->-r ../requirements.txt (line 4)) (4.66.4)\n",
      "Requirement already satisfied: six>=1.5 in c:\\users\\aaarellano\\appdata\\roaming\\python\\python311\\site-packages (from python-dateutil>=2.8.2->pandas->-r ../requirements.txt (line 2)) (1.16.0)\n",
      "Requirement already satisfied: soupsieve>1.2 in c:\\users\\aaarellano\\appdata\\local\\programs\\python\\python311\\lib\\site-packages (from beautifulsoup4->gdown->-r ../requirements.txt (line 4)) (2.5)\n",
      "Requirement already satisfied: charset-normalizer<4,>=2 in c:\\users\\aaarellano\\appdata\\local\\programs\\python\\python311\\lib\\site-packages (from requests[socks]->gdown->-r ../requirements.txt (line 4)) (3.3.2)\n",
      "Requirement already satisfied: idna<4,>=2.5 in c:\\users\\aaarellano\\appdata\\local\\programs\\python\\python311\\lib\\site-packages (from requests[socks]->gdown->-r ../requirements.txt (line 4)) (3.7)\n",
      "Requirement already satisfied: urllib3<3,>=1.21.1 in c:\\users\\aaarellano\\appdata\\local\\programs\\python\\python311\\lib\\site-packages (from requests[socks]->gdown->-r ../requirements.txt (line 4)) (2.2.2)\n",
      "Requirement already satisfied: certifi>=2017.4.17 in c:\\users\\aaarellano\\appdata\\local\\programs\\python\\python311\\lib\\site-packages (from requests[socks]->gdown->-r ../requirements.txt (line 4)) (2024.6.2)\n",
      "Requirement already satisfied: PySocks!=1.5.7,>=1.5.6 in c:\\users\\aaarellano\\appdata\\local\\programs\\python\\python311\\lib\\site-packages (from requests[socks]->gdown->-r ../requirements.txt (line 4)) (1.7.1)\n",
      "Requirement already satisfied: colorama in c:\\users\\aaarellano\\appdata\\roaming\\python\\python311\\site-packages (from tqdm->gdown->-r ../requirements.txt (line 4)) (0.4.6)\n",
      "Note: you may need to restart the kernel to use updated packages.\n"
     ]
    },
    {
     "name": "stderr",
     "output_type": "stream",
     "text": [
      "\n",
      "[notice] A new release of pip available: 22.3.1 -> 24.1.1\n",
      "[notice] To update, run: python.exe -m pip install --upgrade pip\n"
     ]
    },
    {
     "name": "stdout",
     "output_type": "stream",
     "text": [
      "Requirement already satisfied: gdown in c:\\users\\aaarellano\\appdata\\local\\programs\\python\\python311\\lib\\site-packages (5.2.0)\n",
      "Requirement already satisfied: beautifulsoup4 in c:\\users\\aaarellano\\appdata\\local\\programs\\python\\python311\\lib\\site-packages (from gdown) (4.12.3)\n",
      "Requirement already satisfied: filelock in c:\\users\\aaarellano\\appdata\\local\\programs\\python\\python311\\lib\\site-packages (from gdown) (3.15.4)\n",
      "Requirement already satisfied: requests[socks] in c:\\users\\aaarellano\\appdata\\local\\programs\\python\\python311\\lib\\site-packages (from gdown) (2.32.3)\n",
      "Requirement already satisfied: tqdm in c:\\users\\aaarellano\\appdata\\local\\programs\\python\\python311\\lib\\site-packages (from gdown) (4.66.4)\n",
      "Requirement already satisfied: soupsieve>1.2 in c:\\users\\aaarellano\\appdata\\local\\programs\\python\\python311\\lib\\site-packages (from beautifulsoup4->gdown) (2.5)\n",
      "Requirement already satisfied: charset-normalizer<4,>=2 in c:\\users\\aaarellano\\appdata\\local\\programs\\python\\python311\\lib\\site-packages (from requests[socks]->gdown) (3.3.2)\n",
      "Requirement already satisfied: idna<4,>=2.5 in c:\\users\\aaarellano\\appdata\\local\\programs\\python\\python311\\lib\\site-packages (from requests[socks]->gdown) (3.7)\n",
      "Requirement already satisfied: urllib3<3,>=1.21.1 in c:\\users\\aaarellano\\appdata\\local\\programs\\python\\python311\\lib\\site-packages (from requests[socks]->gdown) (2.2.2)\n",
      "Requirement already satisfied: certifi>=2017.4.17 in c:\\users\\aaarellano\\appdata\\local\\programs\\python\\python311\\lib\\site-packages (from requests[socks]->gdown) (2024.6.2)\n",
      "Requirement already satisfied: PySocks!=1.5.7,>=1.5.6 in c:\\users\\aaarellano\\appdata\\local\\programs\\python\\python311\\lib\\site-packages (from requests[socks]->gdown) (1.7.1)\n",
      "Requirement already satisfied: colorama in c:\\users\\aaarellano\\appdata\\roaming\\python\\python311\\site-packages (from tqdm->gdown) (0.4.6)\n",
      "Note: you may need to restart the kernel to use updated packages.\n"
     ]
    },
    {
     "name": "stderr",
     "output_type": "stream",
     "text": [
      "\n",
      "[notice] A new release of pip available: 22.3.1 -> 24.1.1\n",
      "[notice] To update, run: python.exe -m pip install --upgrade pip\n"
     ]
    },
    {
     "name": "stdout",
     "output_type": "stream",
     "text": [
      "Requirement already satisfied: memory-profiler in c:\\users\\aaarellano\\appdata\\local\\programs\\python\\python311\\lib\\site-packages (0.61.0)\n",
      "Requirement already satisfied: psutil in c:\\users\\aaarellano\\appdata\\roaming\\python\\python311\\site-packages (from memory-profiler) (6.0.0)\n",
      "Note: you may need to restart the kernel to use updated packages.\n"
     ]
    },
    {
     "name": "stderr",
     "output_type": "stream",
     "text": [
      "\n",
      "[notice] A new release of pip available: 22.3.1 -> 24.1.1\n",
      "[notice] To update, run: python.exe -m pip install --upgrade pip\n"
     ]
    }
   ],
   "source": [
    "%pip install -r ../requirements.txt\n",
    "%pip install gdown\n",
    "%pip install memory-profiler"
   ]
  },
  {
   "cell_type": "code",
   "execution_count": 5,
   "id": "0cff57ae",
   "metadata": {},
   "outputs": [],
   "source": [
    "import zipfile\n",
    "import os\n",
    "import sys\n",
    "from typing import List, Tuple\n",
    "import gdown\n",
    "from memory_profiler import memory_usage\n",
    "\n",
    "# Agregar el directorio src al sistema de rutas\n",
    "sys.path.append(os.path.abspath(\"../src\"))\n",
    "\n",
    "from q1_time import q1_time\n",
    "from q1_memory import q1_memory\n",
    "from q2_time import q2_time\n",
    "from q2_memory import q2_memory\n",
    "from q3_time import q3_time\n",
    "from q3_memory import q3_memory"
   ]
  },
  {
   "cell_type": "code",
   "execution_count": 6,
   "id": "cb6d20e2",
   "metadata": {},
   "outputs": [
    {
     "name": "stdout",
     "output_type": "stream",
     "text": [
      "Descargando y descomprimiendo el archivo ZIP...\n"
     ]
    },
    {
     "name": "stderr",
     "output_type": "stream",
     "text": [
      "Downloading...\n",
      "From (original): https://drive.google.com/uc?id=1ig2ngoXFTxP5Pa8muXo02mDTFexZzsis\n",
      "From (redirected): https://drive.google.com/uc?id=1ig2ngoXFTxP5Pa8muXo02mDTFexZzsis&confirm=t&uuid=84f654ec-51db-4902-9748-db05aa25e863\n",
      "To: c:\\Users\\aaarellano\\Desktop\\latam\\challenge_DE\\archivo\\tweets.zip\n",
      "100%|██████████| 60.4M/60.4M [00:06<00:00, 9.29MB/s]\n"
     ]
    },
    {
     "name": "stdout",
     "output_type": "stream",
     "text": [
      "Archivo JSON encontrado y descomprimido.\n"
     ]
    }
   ],
   "source": [
    "def descargar_y_descomprimir(url, ruta_destino):\n",
    "    local_filename = os.path.join(ruta_destino, 'tweets.zip')\n",
    "    os.makedirs(ruta_destino, exist_ok=True)\n",
    "    gdown.download(url, local_filename, quiet=False)\n",
    "    with zipfile.ZipFile(local_filename, 'r') as zip_ref:\n",
    "        zip_ref.extractall(ruta_destino)\n",
    "    for file_name in os.listdir(ruta_destino):\n",
    "        if file_name.endswith(\".json\"):\n",
    "            return os.path.join(ruta_destino, file_name)\n",
    "    return None\n",
    "\n",
    "url = 'https://drive.google.com/uc?id=1ig2ngoXFTxP5Pa8muXo02mDTFexZzsis'\n",
    "ruta_destino = '../archivo/'\n",
    "print(\"Descargando y descomprimiendo el archivo ZIP...\")\n",
    "archivo_json = descargar_y_descomprimir(url, ruta_destino)\n",
    "if archivo_json is None:\n",
    "    print(\"No se encontró un archivo JSON en el ZIP.\")\n",
    "else:\n",
    "    print(\"Archivo JSON encontrado y descomprimido.\")"
   ]
  },
  {
   "cell_type": "markdown",
   "id": "c2661e5a",
   "metadata": {},
   "source": [
    "## Problema 1: Top 10 fechas con más tweets\n",
    "En este problema, se busca identificar las 10 fechas con mayor cantidad de tweets y mencionar el usuario con más publicaciones en cada una de esas fechas."
   ]
  },
  {
   "cell_type": "markdown",
   "id": "4b9aa7d7",
   "metadata": {},
   "source": [
    "### Enfoque de Optimización del Tiempo (q1_time)\n",
    "Esta función está diseñada para minimizar el tiempo de ejecución."
   ]
  },
  {
   "cell_type": "code",
   "execution_count": 7,
   "id": "4ede1f42",
   "metadata": {},
   "outputs": [
    {
     "name": "stdout",
     "output_type": "stream",
     "text": [
      "Tiempo de ejecución de q1_time:  9.411396265029907\n",
      "Resultado de q1_time:  [(datetime.date(2021, 2, 12), 'RanbirS00614606'), (datetime.date(2021, 2, 13), 'MaanDee08215437'), (datetime.date(2021, 2, 17), 'RaaJVinderkaur'), (datetime.date(2021, 2, 16), 'jot__b'), (datetime.date(2021, 2, 14), 'rebelpacifist'), (datetime.date(2021, 2, 18), 'neetuanjle_nitu'), (datetime.date(2021, 2, 15), 'jot__b'), (datetime.date(2021, 2, 20), 'MangalJ23056160'), (datetime.date(2021, 2, 23), 'Surrypuria'), (datetime.date(2021, 2, 19), 'Preetm91')]\n"
     ]
    }
   ],
   "source": [
    "import time\n",
    "\n",
    "# Medición de tiempo de ejecución para q1_time\n",
    "start_time = time.time()\n",
    "result_q1_time = q1_time(archivo_json)\n",
    "end_time = time.time()\n",
    "print(\"Tiempo de ejecución de q1_time: \", end_time - start_time)\n",
    "print(\"Resultado de q1_time: \", result_q1_time)"
   ]
  },
  {
   "cell_type": "markdown",
   "id": "1dc2da75",
   "metadata": {},
   "source": [
    "### Enfoque de Optimización de la Memoria (q1_memory)\n",
    "Esta función está diseñada para minimizar el uso de memoria."
   ]
  },
  {
   "cell_type": "code",
   "execution_count": 8,
   "id": "e2676488",
   "metadata": {},
   "outputs": [
    {
     "name": "stdout",
     "output_type": "stream",
     "text": [
      "Uso de memoria de q1_memory:  2.26171875\n",
      "Resultado de q1_memory:  [(datetime.date(2021, 2, 12), 'RanbirS00614606'), (datetime.date(2021, 2, 13), 'MaanDee08215437'), (datetime.date(2021, 2, 17), 'RaaJVinderkaur'), (datetime.date(2021, 2, 16), 'jot__b'), (datetime.date(2021, 2, 14), 'rebelpacifist'), (datetime.date(2021, 2, 18), 'neetuanjle_nitu'), (datetime.date(2021, 2, 15), 'jot__b'), (datetime.date(2021, 2, 20), 'MangalJ23056160'), (datetime.date(2021, 2, 23), 'Surrypuria'), (datetime.date(2021, 2, 19), 'Preetm91')]\n"
     ]
    }
   ],
   "source": [
    "# Medición de uso de memoria para q1_memory\n",
    "mem_usage = memory_usage((q1_memory, (archivo_json,)))\n",
    "print(\"Uso de memoria de q1_memory: \", max(mem_usage) - min(mem_usage))\n",
    "result_q1_memory = q1_memory(archivo_json)\n",
    "print(\"Resultado de q1_memory: \", result_q1_memory)"
   ]
  },
  {
   "cell_type": "markdown",
   "id": "11c266ee",
   "metadata": {},
   "source": [
    "## Problema 2: Top 10 emojis más usados\n",
    "En este problema, se busca identificar los 10 emojis más usados y su respectivo conteo."
   ]
  },
  {
   "cell_type": "markdown",
   "id": "7040e75d",
   "metadata": {},
   "source": [
    "### Enfoque de Optimización del Tiempo (q2_time)\n",
    "Esta función está diseñada para minimizar el tiempo de ejecución."
   ]
  },
  {
   "cell_type": "code",
   "execution_count": 9,
   "id": "f07a981a",
   "metadata": {},
   "outputs": [
    {
     "name": "stdout",
     "output_type": "stream",
     "text": [
      "Tiempo de ejecución de q2_time:  8.86163854598999\n",
      "Resultado de q2_time:  [('🙏', 7286), ('😂', 3072), ('🚜', 2972), ('✊', 2411), ('🌾', 2363), ('🏻', 2080), ('❤', 1779), ('🤣', 1668), ('🏽', 1218), ('👇', 1108)]\n"
     ]
    }
   ],
   "source": [
    "# Medición de tiempo de ejecución para q2_time\n",
    "start_time = time.time()\n",
    "result_q2_time = q2_time(archivo_json)\n",
    "end_time = time.time()\n",
    "print(\"Tiempo de ejecución de q2_time: \", end_time - start_time)\n",
    "print(\"Resultado de q2_time: \", result_q2_time)"
   ]
  },
  {
   "cell_type": "markdown",
   "id": "5db5052a",
   "metadata": {},
   "source": [
    "### Enfoque de Optimización de la Memoria (q2_memory)\n",
    "Esta función está diseñada para minimizar el uso de memoria."
   ]
  },
  {
   "cell_type": "code",
   "execution_count": 10,
   "id": "97015e1d",
   "metadata": {},
   "outputs": [
    {
     "name": "stdout",
     "output_type": "stream",
     "text": [
      "Uso de memoria de q2_memory:  1.453125\n",
      "Resultado de q2_memory:  [('🙏', 7286), ('😂', 3072), ('🚜', 2972), ('✊', 2411), ('🌾', 2363), ('🏻', 2080), ('❤', 1779), ('🤣', 1668), ('🏽', 1218), ('👇', 1108)]\n"
     ]
    }
   ],
   "source": [
    "# Medición de uso de memoria para q2_memory\n",
    "mem_usage = memory_usage((q2_memory, (archivo_json,)))\n",
    "print(\"Uso de memoria de q2_memory: \", max(mem_usage) - min(mem_usage))\n",
    "result_q2_memory = q2_memory(archivo_json)\n",
    "print(\"Resultado de q2_memory: \", result_q2_memory)"
   ]
  },
  {
   "cell_type": "markdown",
   "id": "05e83b14",
   "metadata": {},
   "source": [
    "## Problema 3: Top 10 usuarios más influyentes\n",
    "En este problema, se busca identificar a los 10 usuarios más influyentes en función del conteo de menciones."
   ]
  },
  {
   "cell_type": "markdown",
   "id": "a8121b75",
   "metadata": {},
   "source": [
    "### Enfoque de Optimización del Tiempo (q3_time)\n",
    "Esta función está diseñada para minimizar el tiempo de ejecución."
   ]
  },
  {
   "cell_type": "code",
   "execution_count": 11,
   "id": "11a1af19",
   "metadata": {},
   "outputs": [
    {
     "name": "stdout",
     "output_type": "stream",
     "text": [
      "Tiempo de ejecución de q3_time:  8.970560073852539\n",
      "Resultado de q3_time:  [('@narendramodi', 2201), ('@Kisanektamorcha', 1822), ('@RakeshTikaitBKU', 1599), ('@PMOIndia', 1387), ('@RahulGandhi', 1093), ('@RaviSinghKA', 1002), ('@GretaThunberg', 999), ('@UNHumanRights', 956), ('@rihanna', 944), ('@meenaharris', 911)]\n"
     ]
    }
   ],
   "source": [
    "# Medición de tiempo de ejecución para q3_time\n",
    "start_time = time.time()\n",
    "result_q3_time = q3_time(archivo_json)\n",
    "end_time = time.time()\n",
    "print(\"Tiempo de ejecución de q3_time: \", end_time - start_time)\n",
    "print(\"Resultado de q3_time: \", result_q3_time)"
   ]
  },
  {
   "cell_type": "markdown",
   "id": "db50d39d",
   "metadata": {},
   "source": [
    "### Enfoque de Optimización de la Memoria (q3_memory)\n",
    "Esta función está diseñada para minimizar el uso de memoria."
   ]
  },
  {
   "cell_type": "code",
   "execution_count": 12,
   "id": "81528a19",
   "metadata": {},
   "outputs": [
    {
     "name": "stdout",
     "output_type": "stream",
     "text": [
      "Uso de memoria de q3_memory:  2.171875\n",
      "Resultado de q3_memory:  [('@narendramodi', 2201), ('@Kisanektamorcha', 1822), ('@RakeshTikaitBKU', 1599), ('@PMOIndia', 1387), ('@RahulGandhi', 1093), ('@RaviSinghKA', 1002), ('@GretaThunberg', 999), ('@UNHumanRights', 956), ('@rihanna', 944), ('@meenaharris', 911)]\n"
     ]
    }
   ],
   "source": [
    "# Medición de uso de memoria para q3_memory\n",
    "mem_usage = memory_usage((q3_memory, (archivo_json,)))\n",
    "print(\"Uso de memoria de q3_memory: \", max(mem_usage) - min(mem_usage))\n",
    "result_q3_memory = q3_memory(archivo_json)\n",
    "print(\"Resultado de q3_memory: \", result_q3_memory)"
   ]
  },
  {
   "cell_type": "markdown",
   "metadata": {},
   "source": [
    "## Conclusiones\n",
    "En este notebook se ha mostrado la ejecución de las funciones que resuelven los problemas planteados en el desafío. Cada función ha sido evaluada en términos de tiempo de ejecución y uso de memoria, proporcionando una visión clara de su eficiencia. Las optimizaciones aplicadas en cada enfoque permiten manejar grandes volúmenes de datos de manera eficiente."
   ]
  }
 ],
 "metadata": {
  "kernelspec": {
   "display_name": "Python 3",
   "language": "python",
   "name": "python3"
  },
  "language_info": {
   "codemirror_mode": {
    "name": "ipython",
    "version": 3
   },
   "file_extension": ".py",
   "mimetype": "text/x-python",
   "name": "python",
   "nbconvert_exporter": "python",
   "pygments_lexer": "ipython3",
   "version": "3.8.8"
  }
 },
 "nbformat": 4,
 "nbformat_minor": 5
}
