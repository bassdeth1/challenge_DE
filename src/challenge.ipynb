{
 "cells": [
  {
   "cell_type": "markdown",
   "metadata": {},
   "source": [
    "# Desafío de Ingeniero de Datos\n",
    "\n",
    "## Descripción del Proyecto\n",
    "Este proyecto tiene como objetivo analizar un conjunto de datos de tweets para extraer información relevante optimizando tanto el tiempo de ejecución como el uso de memoria. A continuación, se detalla la implementación de cada función y su respectivo enfoque."
   ]
  },
  {
   "cell_type": "markdown",
   "metadata": {},
   "source": [
    "## Preparación del Entorno\n",
    "Primero, instalaremos las dependencias necesarias y descargaremos el archivo de datos desde Google Drive."
   ]
  },
  {
   "cell_type": "code",
   "execution_count": null,
   "id": "66c2775e",
   "metadata": {},
   "outputs": [],
   "source": [
    "%pip install -r ../requirements.txt\n",
    "%pip install gdown\n",
    "%pip install memory-profiler"
   ]
  },
  {
   "cell_type": "code",
   "execution_count": null,
   "id": "60da26b4",
   "metadata": {},
   "outputs": [],
   "source": [
    "import zipfile\n",
    "import os\n",
    "import sys\n",
    "from typing import List, Tuple\n",
    "import gdown\n",
    "from memory_profiler import memory_usage\n",
    "from concurrent.futures import ThreadPoolExecutor\n",
    "\n",
    "# Agregar el directorio src al sistema de rutas\n",
    "sys.path.append(os.path.abspath(\"../src\"))\n",
    "\n",
    "from q1_time import q1_time\n",
    "from q1_memory import q1_memory\n",
    "from q2_time import q2_time\n",
    "from q2_memory import q2_memory\n",
    "from q3_time import q3_time\n",
    "from q3_memory import q3_memory"
   ]
  },
  {
   "cell_type": "code",
   "execution_count": null,
   "id": "fca5b2a4",
   "metadata": {},
   "outputs": [],
   "source": [
    "def descargar_y_descomprimir(url, ruta_destino):\n",
    "    local_filename = os.path.join(ruta_destino, 'tweets.zip')\n",
    "    os.makedirs(ruta_destino, exist_ok=True)\n",
    "    gdown.download(url, local_filename, quiet=False)\n",
    "    with zipfile.ZipFile(local_filename, 'r') as zip_ref:\n",
    "        zip_ref.extractall(ruta_destino)\n",
    "    for file_name in os.listdir(ruta_destino):\n",
    "        if file_name.endswith(\".json\"):\n",
    "            return os.path.join(ruta_destino, file_name)\n",
    "    return None\n",
    "\n",
    "url = 'https://drive.google.com/uc?id=1ig2ngoXFTxP5Pa8muXo02mDTFexZzsis'\n",
    "ruta_destino = '../archivo/'\n",
    "print(\"Descargando y descomprimiendo el archivo ZIP...\")\n",
    "archivo_json = descargar_y_descomprimir(url, ruta_destino)\n",
    "if archivo_json is None:\n",
    "    print(\"No se encontró un archivo JSON en el ZIP.\")\n",
    "else:\n",
    "    print(\"Archivo JSON encontrado y descomprimido.\")"
   ]
  },
  {
   "cell_type": "markdown",
   "id": "84577009",
   "metadata": {},
   "source": [
    "## Problema 1: Top 10 fechas con más tweets\n",
    "En este problema, se busca identificar las 10 fechas con mayor cantidad de tweets y mencionar el usuario con más publicaciones en cada una de esas fechas."
   ]
  },
  {
   "cell_type": "markdown",
   "id": "a76d6792",
   "metadata": {},
   "source": [
    "### Enfoque de Optimización del Tiempo (q1_time)\n",
    "Esta función está diseñada para minimizar el tiempo de ejecución utilizando paralelismo con `ThreadPoolExecutor` para contar las publicaciones por usuario de manera concurrente."
   ]
  },
  {
   "cell_type": "code",
   "execution_count": null,
   "id": "4ad6169f",
   "metadata": {},
   "outputs": [],
   "source": [
    "import time\n",
    "\n",
    "# Medición de tiempo de ejecución para q1_time\n",
    "start_time = time.time()\n",
    "result_q1_time = q1_time(archivo_json)\n",
    "end_time = time.time()\n",
    "print(\"Tiempo de ejecución de q1_time: \", end_time - start_time)\n",
    "print(\"Resultado de q1_time: \", result_q1_time)\n",
    "\n",
    "# Medición de uso de memoria para q1_time\n",
    "mem_usage = memory_usage((q1_time, (archivo_json,)))\n",
    "print(\"Uso de memoria de q1_time: \", max(mem_usage) - min(mem_usage))"
   ]
  },
  {
   "cell_type": "markdown",
   "id": "e38b62e6",
   "metadata": {},
   "source": [
    "### Enfoque de Optimización de la Memoria (q1_memory)\n",
    "Esta función está diseñada para minimizar el uso de memoria procesando los datos de manera secuencial."
   ]
  },
  {
   "cell_type": "code",
   "execution_count": null,
   "id": "3aeedc1c",
   "metadata": {},
   "outputs": [],
   "source": [
    "# Medición de tiempo de ejecución para q1_memory\n",
    "start_time = time.time()\n",
    "result_q1_memory = q1_memory(archivo_json)\n",
    "end_time = time.time()\n",
    "print(\"Tiempo de ejecución de q1_memory: \", end_time - start_time)\n",
    "print(\"Resultado de q1_memory: \", result_q1_memory)\n",
    "\n",
    "# Medición de uso de memoria para q1_memory\n",
    "mem_usage = memory_usage((q1_memory, (archivo_json,)))\n",
    "print(\"Uso de memoria de q1_memory: \", max(mem_usage) - min(mem_usage))"
   ]
  },
  {
   "cell_type": "markdown",
   "id": "d9d5fde2",
   "metadata": {},
   "source": [
    "## Problema 2: Top 10 emojis más usados\n",
    "En este problema, se busca identificar los 10 emojis más usados y su respectivo conteo."
   ]
  },
  {
   "cell_type": "markdown",
   "id": "bba82c5b",
   "metadata": {},
   "source": [
    "### Enfoque de Optimización del Tiempo (q2_time)\n",
    "Esta función está diseñada para minimizar el tiempo de ejecución utilizando paralelismo para procesar los datos de manera concurrente."
   ]
  },
  {
   "cell_type": "code",
   "execution_count": null,
   "id": "c5d92a03",
   "metadata": {},
   "outputs": [],
   "source": [
    "# Medición de tiempo de ejecución para q2_time\n",
    "start_time = time.time()\n",
    "result_q2_time = q2_time(archivo_json)\n",
    "end_time = time.time()\n",
    "print(\"Tiempo de ejecución de q2_time: \", end_time - start_time)\n",
    "print(\"Resultado de q2_time: \", result_q2_time)\n",
    "\n",
    "# Medición de uso de memoria para q2_time\n",
    "mem_usage = memory_usage((q2_time, (archivo_json,)))\n",
    "print(\"Uso de memoria de q2_time: \", max(mem_usage) - min(mem_usage))"
   ]
  },
  {
   "cell_type": "markdown",
   "id": "e689c1b8",
   "metadata": {},
   "source": [
    "### Enfoque de Optimización de la Memoria (q2_memory)\n",
    "Esta función está diseñada para minimizar el uso de memoria procesando los datos de manera secuencial."
   ]
  },
  {
   "cell_type": "code",
   "execution_count": null,
   "id": "a4abcc52",
   "metadata": {},
   "outputs": [],
   "source": [
    "# Medición de tiempo de ejecución para q2_memory\n",
    "start_time = time.time()\n",
    "result_q2_memory = q2_memory(archivo_json)\n",
    "end_time = time.time()\n",
    "print(\"Tiempo de ejecución de q2_memory: \", end_time - start_time)\n",
    "print(\"Resultado de q2_memory: \", result_q2_memory)\n",
    "\n",
    "# Medición de uso de memoria para q2_memory\n",
    "mem_usage = memory_usage((q2_memory, (archivo_json,)))\n",
    "print(\"Uso de memoria de q2_memory: \", max(mem_usage) - min(mem_usage))"
   ]
  },
  {
   "cell_type": "markdown",
   "id": "71e5413e",
   "metadata": {},
   "source": [
    "## Problema 3: Top 10 usuarios más influyentes\n",
    "En este problema, se busca identificar a los 10 usuarios más influyentes en función del conteo de menciones."
   ]
  },
  {
   "cell_type": "markdown",
   "id": "954f1221",
   "metadata": {},
   "source": [
    "### Enfoque de Optimización del Tiempo (q3_time)\n",
    "Esta función está diseñada para minimizar el tiempo de ejecución utilizando paralelismo para procesar los datos de manera concurrente."
   ]
  },
  {
   "cell_type": "code",
   "execution_count": null,
   "id": "ab3600d4",
   "metadata": {},
   "outputs": [],
   "source": [
    "# Medición de tiempo de ejecución para q3_time\n",
    "start_time = time.time()\n",
    "result_q3_time = q3_time(archivo_json)\n",
    "end_time = time.time()\n",
    "print(\"Tiempo de ejecución de q3_time: \", end_time - start_time)\n",
    "print(\"Resultado de q3_time: \", result_q3_time)\n",
    "\n",
    "# Medición de uso de memoria para q3_time\n",
    "mem_usage = memory_usage((q3_time, (archivo_json,)))\n",
    "print(\"Uso de memoria de q3_time: \", max(mem_usage) - min(mem_usage))"
   ]
  },
  {
   "cell_type": "markdown",
   "id": "555c8801",
   "metadata": {},
   "source": [
    "### Enfoque de Optimización de la Memoria (q3_memory)\n",
    "Esta función está diseñada para minimizar el uso de memoria procesando los datos de manera secuencial."
   ]
  },
  {
   "cell_type": "code",
   "execution_count": null,
   "id": "6982cb76",
   "metadata": {},
   "outputs": [],
   "source": [
    "# Medición de tiempo de ejecución para q3_memory\n",
    "start_time = time.time()\n",
    "result_q3_memory = q3_memory(archivo_json)\n",
    "end_time = time.time()\n",
    "print(\"Tiempo de ejecución de q3_memory: \", end_time - start_time)\n",
    "print(\"Resultado de q3_memory: \", result_q3_memory)\n",
    "\n",
    "# Medición de uso de memoria para q3_memory\n",
    "mem_usage = memory_usage((q3_memory, (archivo_json,)))\n",
    "print(\"Uso de memoria de q3_memory: \", max(mem_usage) - min(mem_usage))"
   ]
  },
  {
   "cell_type": "markdown",
   "metadata": {},
   "source": [
    "## Conclusiones\n",
    "En este notebook se ha mostrado la ejecución de las funciones que resuelven los problemas planteados en el desafío. Cada función ha sido evaluada en términos de tiempo de ejecución y uso de memoria, proporcionando una visión clara de su eficiencia. Las optimizaciones aplicadas en cada enfoque permiten manejar grandes volúmenes de datos de manera eficiente."
   ]
  }
 ],
 "metadata": {
  "kernelspec": {
   "display_name": "Python 3",
   "language": "python",
   "name": "python3"
  },
  "language_info": {
   "codemirror_mode": {
    "name": "ipython",
    "version": 3
   },
   "file_extension": ".py",
   "mimetype": "text/x-python",
   "name": "python",
   "nbconvert_exporter": "python",
   "pygments_lexer": "ipython3",
   "version": "3.8.8"
  }
 },
 "nbformat": 4,
 "nbformat_minor": 5
}
